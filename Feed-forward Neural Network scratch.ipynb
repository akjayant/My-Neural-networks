{
 "cells": [
  {
   "cell_type": "code",
   "execution_count": 880,
   "metadata": {
    "collapsed": true,
    "deletable": true,
    "editable": true
   },
   "outputs": [],
   "source": [
    "#author - Ashish Kumar Jayant"
   ]
  },
  {
   "cell_type": "code",
   "execution_count": 1147,
   "metadata": {
    "collapsed": false,
    "deletable": true,
    "editable": true
   },
   "outputs": [],
   "source": [
    "import numpy as np\n",
    "import pandas as pd\n",
    "from sklearn.utils import shuffle\n",
    "import math\n",
    "import itertools"
   ]
  },
  {
   "cell_type": "code",
   "execution_count": 1148,
   "metadata": {
    "collapsed": true
   },
   "outputs": [],
   "source": [
    "file = pd.read_excel(\"file.xlsx\",sheetname='sheet1')"
   ]
  },
  {
   "cell_type": "code",
   "execution_count": 1149,
   "metadata": {
    "collapsed": true
   },
   "outputs": [],
   "source": [
    "def make_cat(file):\n",
    "    file['y1_category'] = file['Y1'].map(lambda x: 0 if (x>6.0) & (x<12) else (1 if((x>12) & (x<28))  else 2))\n",
    "    file['y1_good'] = file['Y1'].map(lambda x: 1 if (x>6) & (x<14.5) else 0)\n",
    "    file['y1_average'] = file['Y1'].map(lambda x: 1 if (x>14.5) & (x<28) else 0)\n",
    "    file['y1_bad'] = file['Y1'].map(lambda x: 1 if (x>28) & (x<44) else 0)\n",
    "    return file"
   ]
  },
  {
   "cell_type": "code",
   "execution_count": 1150,
   "metadata": {
    "collapsed": true
   },
   "outputs": [],
   "source": [
    "def make_x_y(file):\n",
    "    x_train_full = file.loc[:,'X1': 'X8']/file.loc[:,'X1':'X8'].max()\n",
    "    x_train = np.array(x_train_full[:int(0.7*len(x_train_full))])\n",
    "    y1_train_full = np.array(file.loc[:,'y1_good':'y1_bad'])\n",
    "    y1_train = np.array(y1_train_full[:int(0.7*len(y1_train_full))])\n",
    "    return x_train,y1_train"
   ]
  },
  {
   "cell_type": "code",
   "execution_count": 1151,
   "metadata": {
    "collapsed": false
   },
   "outputs": [],
   "source": [
    "file = make_cat(file)"
   ]
  },
  {
   "cell_type": "markdown",
   "metadata": {},
   "source": [
    "#### Features (normalized)"
   ]
  },
  {
   "cell_type": "code",
   "execution_count": 1152,
   "metadata": {
    "collapsed": false,
    "scrolled": true
   },
   "outputs": [
    {
     "data": {
      "text/html": [
       "<div>\n",
       "<table border=\"1\" class=\"dataframe\">\n",
       "  <thead>\n",
       "    <tr style=\"text-align: right;\">\n",
       "      <th></th>\n",
       "      <th>0</th>\n",
       "      <th>1</th>\n",
       "      <th>2</th>\n",
       "      <th>3</th>\n",
       "      <th>4</th>\n",
       "      <th>5</th>\n",
       "      <th>6</th>\n",
       "      <th>7</th>\n",
       "    </tr>\n",
       "  </thead>\n",
       "  <tbody>\n",
       "    <tr>\n",
       "      <th>0</th>\n",
       "      <td>0.775510</td>\n",
       "      <td>0.818182</td>\n",
       "      <td>1.000000</td>\n",
       "      <td>0.555556</td>\n",
       "      <td>1.0</td>\n",
       "      <td>1.0</td>\n",
       "      <td>1.000</td>\n",
       "      <td>1.0</td>\n",
       "    </tr>\n",
       "    <tr>\n",
       "      <th>1</th>\n",
       "      <td>0.632653</td>\n",
       "      <td>1.000000</td>\n",
       "      <td>0.882353</td>\n",
       "      <td>1.000000</td>\n",
       "      <td>0.5</td>\n",
       "      <td>0.4</td>\n",
       "      <td>1.000</td>\n",
       "      <td>0.8</td>\n",
       "    </tr>\n",
       "    <tr>\n",
       "      <th>2</th>\n",
       "      <td>0.673469</td>\n",
       "      <td>0.939394</td>\n",
       "      <td>0.764706</td>\n",
       "      <td>1.000000</td>\n",
       "      <td>0.5</td>\n",
       "      <td>0.6</td>\n",
       "      <td>0.625</td>\n",
       "      <td>0.8</td>\n",
       "    </tr>\n",
       "    <tr>\n",
       "      <th>3</th>\n",
       "      <td>0.918367</td>\n",
       "      <td>0.696970</td>\n",
       "      <td>0.764706</td>\n",
       "      <td>0.555556</td>\n",
       "      <td>1.0</td>\n",
       "      <td>0.6</td>\n",
       "      <td>0.250</td>\n",
       "      <td>0.6</td>\n",
       "    </tr>\n",
       "    <tr>\n",
       "      <th>4</th>\n",
       "      <td>0.836735</td>\n",
       "      <td>0.757576</td>\n",
       "      <td>0.764706</td>\n",
       "      <td>0.666667</td>\n",
       "      <td>1.0</td>\n",
       "      <td>0.4</td>\n",
       "      <td>0.250</td>\n",
       "      <td>0.6</td>\n",
       "    </tr>\n",
       "  </tbody>\n",
       "</table>\n",
       "</div>"
      ],
      "text/plain": [
       "          0         1         2         3    4    5      6    7\n",
       "0  0.775510  0.818182  1.000000  0.555556  1.0  1.0  1.000  1.0\n",
       "1  0.632653  1.000000  0.882353  1.000000  0.5  0.4  1.000  0.8\n",
       "2  0.673469  0.939394  0.764706  1.000000  0.5  0.6  0.625  0.8\n",
       "3  0.918367  0.696970  0.764706  0.555556  1.0  0.6  0.250  0.6\n",
       "4  0.836735  0.757576  0.764706  0.666667  1.0  0.4  0.250  0.6"
      ]
     },
     "execution_count": 1152,
     "metadata": {},
     "output_type": "execute_result"
    }
   ],
   "source": [
    "pd.DataFrame(x_train).head()"
   ]
  },
  {
   "cell_type": "markdown",
   "metadata": {},
   "source": [
    "#### Targets"
   ]
  },
  {
   "cell_type": "code",
   "execution_count": 1153,
   "metadata": {
    "collapsed": false
   },
   "outputs": [
    {
     "data": {
      "text/html": [
       "<div>\n",
       "<table border=\"1\" class=\"dataframe\">\n",
       "  <thead>\n",
       "    <tr style=\"text-align: right;\">\n",
       "      <th></th>\n",
       "      <th>0</th>\n",
       "      <th>1</th>\n",
       "      <th>2</th>\n",
       "    </tr>\n",
       "  </thead>\n",
       "  <tbody>\n",
       "    <tr>\n",
       "      <th>0</th>\n",
       "      <td>0</td>\n",
       "      <td>0</td>\n",
       "      <td>1</td>\n",
       "    </tr>\n",
       "    <tr>\n",
       "      <th>1</th>\n",
       "      <td>0</td>\n",
       "      <td>1</td>\n",
       "      <td>0</td>\n",
       "    </tr>\n",
       "    <tr>\n",
       "      <th>2</th>\n",
       "      <td>1</td>\n",
       "      <td>0</td>\n",
       "      <td>0</td>\n",
       "    </tr>\n",
       "    <tr>\n",
       "      <th>3</th>\n",
       "      <td>0</td>\n",
       "      <td>0</td>\n",
       "      <td>1</td>\n",
       "    </tr>\n",
       "    <tr>\n",
       "      <th>4</th>\n",
       "      <td>0</td>\n",
       "      <td>1</td>\n",
       "      <td>0</td>\n",
       "    </tr>\n",
       "  </tbody>\n",
       "</table>\n",
       "</div>"
      ],
      "text/plain": [
       "   0  1  2\n",
       "0  0  0  1\n",
       "1  0  1  0\n",
       "2  1  0  0\n",
       "3  0  0  1\n",
       "4  0  1  0"
      ]
     },
     "execution_count": 1153,
     "metadata": {},
     "output_type": "execute_result"
    }
   ],
   "source": [
    "pd.DataFrame(y1_train).head()"
   ]
  },
  {
   "cell_type": "code",
   "execution_count": 1168,
   "metadata": {
    "collapsed": true,
    "deletable": true,
    "editable": true
   },
   "outputs": [],
   "source": [
    "def network_structure(structure):\n",
    "    layers = len(structure)\n",
    "    biases = [np.random.rand(y,1) for y in structure[1:]]\n",
    "    weights = [np.random.rand(x,y) for y,x in zip(structure[:-1],structure[1:]) ]\n",
    "    return layers,weights,biases         "
   ]
  },
  {
   "cell_type": "code",
   "execution_count": 1155,
   "metadata": {
    "collapsed": false,
    "deletable": true,
    "editable": true
   },
   "outputs": [],
   "source": [
    "def sigmoid(x):\n",
    "    return 1.0/(1.0+np.exp(-x))"
   ]
  },
  {
   "cell_type": "code",
   "execution_count": 1156,
   "metadata": {
    "collapsed": true
   },
   "outputs": [],
   "source": [
    "def relu(x):\n",
    "    return np.log(1+np.exp(-x))"
   ]
  },
  {
   "cell_type": "code",
   "execution_count": 1157,
   "metadata": {
    "collapsed": true
   },
   "outputs": [],
   "source": [
    "def relu_diff(x):\n",
    "    return 1/(1+np.exp(-x))"
   ]
  },
  {
   "cell_type": "code",
   "execution_count": 1158,
   "metadata": {
    "collapsed": false,
    "deletable": true,
    "editable": true
   },
   "outputs": [],
   "source": [
    "def sigmoid_diff(x):\n",
    "    return sigmoid(x)*(1-sigmoid(x))"
   ]
  },
  {
   "cell_type": "code",
   "execution_count": 1238,
   "metadata": {
    "collapsed": false,
    "deletable": true,
    "editable": true
   },
   "outputs": [],
   "source": [
    "def feedforward(x_input,weights,biases):\n",
    "    z = [0]*layers\n",
    "    z[0] = x_input\n",
    "    for i in range(1,layers):\n",
    "        z[i] = (sigmoid(np.matmul(weights[i-1],z[i-1])))#+ biases[i-1]))\n",
    "    z = [arr.reshape(arr.shape[0],1) for arr in z]\n",
    "    for i in range(1,layers):\n",
    "        z[i]+=biases[i-1]\n",
    "    return z        "
   ]
  },
  {
   "cell_type": "code",
   "execution_count": 1239,
   "metadata": {
    "collapsed": true
   },
   "outputs": [],
   "source": [
    "def accuracy(y1_train,pred):\n",
    "    count = 0\n",
    "    c = [i for i in y1_train - pred]\n",
    "    for j in c:\n",
    "        if (np.count_nonzero(j) == 0):\n",
    "            count+=1\n",
    "    return(count/len(x_train))"
   ]
  },
  {
   "cell_type": "markdown",
   "metadata": {},
   "source": [
    "#### cost function - cross entropy"
   ]
  },
  {
   "cell_type": "code",
   "execution_count": 1240,
   "metadata": {
    "collapsed": false,
    "deletable": true,
    "editable": true
   },
   "outputs": [],
   "source": [
    "def cost_derivative_ce(output_activations,y,m):\n",
    "    return np.sum(((y/output_activations - (1-y)/(1-output_activations))))/m           "
   ]
  },
  {
   "cell_type": "markdown",
   "metadata": {},
   "source": [
    "#### cost function -  mean squared error"
   ]
  },
  {
   "cell_type": "code",
   "execution_count": 1241,
   "metadata": {
    "collapsed": false
   },
   "outputs": [],
   "source": [
    "def cost_derivative_mse(output_activations,y,m):\n",
    "    return np.sum((np.abs(y-output_activations)))/m           "
   ]
  },
  {
   "cell_type": "code",
   "execution_count": 1242,
   "metadata": {
    "collapsed": false,
    "deletable": true,
    "editable": true
   },
   "outputs": [],
   "source": [
    "def backprop(y,m,z,weights,lr):\n",
    "    grad_cw = [0]*(layers-1)\n",
    "    grad_cb = [0]*(layers-1)\n",
    "    prod_1 = 1\n",
    "    for i in range(layers-1,0,-1):\n",
    "        prod = 1\n",
    "        if(prod_1==1):\n",
    "            prod *= cost_derivative_ce(z[layers-1],y,m)\n",
    "        prod = prod*prod_1*sigmoid_diff(z[i])\n",
    "        prod *= sigmoid_diff(np.dot(weights[i-1],z[i-1]))\n",
    "        prod1 = prod\n",
    "        #print(\"---prod.shape \",prod,\"-----z.shape\",z)\n",
    "        try:\n",
    "            prod2 = prod*weights[i-1]*z[i-1]\n",
    "        except:\n",
    "            prod2 = prod.T*z[i-1]\n",
    "        grad_cw[i-1] = lr*prod2\n",
    "        grad_cb[i-1] = lr*prod\n",
    "    return grad_cw,grad_cb"
   ]
  },
  {
   "cell_type": "code",
   "execution_count": 1243,
   "metadata": {
    "collapsed": true
   },
   "outputs": [],
   "source": [
    "def run_this(epochs,file,weights,biases,z):\n",
    "    for j in range(epochs):\n",
    "        #file = shuffle(file)\n",
    "        #x_train,y1_train = make_x_y(file)\n",
    "        for i in range(len(x_train)):\n",
    "            x_input=x_train[i]\n",
    "            y1 = y1_train[i]\n",
    "            z = feedforward(x_input,weights,biases)\n",
    "            #z = [arr.reshape(arr.shape[0],1) for arr in z]\n",
    "            delta_cw,delta_cb= backprop(y1,537,z,weights,learning_rates)       \n",
    "            weights = np.add(weights,[arr.T for arr in delta_cw])\n",
    "            biases = np.add(biases,delta_cb)"
   ]
  },
  {
   "cell_type": "markdown",
   "metadata": {},
   "source": [
    "### ------------------------------------------------------------------------------------------------------------------"
   ]
  },
  {
   "cell_type": "code",
   "execution_count": 1244,
   "metadata": {
    "collapsed": false
   },
   "outputs": [],
   "source": [
    "file = shuffle(file)\n",
    "x_train,y1_train = make_x_y(file)"
   ]
  },
  {
   "cell_type": "code",
   "execution_count": 1245,
   "metadata": {
    "collapsed": false
   },
   "outputs": [],
   "source": [
    "layers,weights,biases = network_structure([8,5,5,3]) "
   ]
  },
  {
   "cell_type": "code",
   "execution_count": 1246,
   "metadata": {
    "collapsed": false,
    "deletable": true,
    "editable": true
   },
   "outputs": [],
   "source": [
    "learning_rates = 0.9 \n",
    "x_input = x_train[0]\n",
    "z = feedforward(x_input,weights,biases)\n"
   ]
  },
  {
   "cell_type": "code",
   "execution_count": 1247,
   "metadata": {
    "collapsed": false,
    "deletable": true,
    "editable": true
   },
   "outputs": [],
   "source": [
    "run_this(1000,file,weights,biases,z)"
   ]
  },
  {
   "cell_type": "markdown",
   "metadata": {},
   "source": [
    "#### Making predictions"
   ]
  },
  {
   "cell_type": "code",
   "execution_count": 1248,
   "metadata": {
    "collapsed": false
   },
   "outputs": [],
   "source": [
    "pred = []\n",
    "for i in x_train:\n",
    "    t = feedforward(i,weights,biases)\n",
    "    pred.append(t[-1])"
   ]
  },
  {
   "cell_type": "code",
   "execution_count": 1249,
   "metadata": {
    "collapsed": false
   },
   "outputs": [
    {
     "data": {
      "text/plain": [
       "[array([[ 1.46486477],\n",
       "        [ 1.81013306],\n",
       "        [ 1.13606875]]), array([[ 1.46488086],\n",
       "        [ 1.81014668],\n",
       "        [ 1.13608151]]), array([[ 1.46468896],\n",
       "        [ 1.80997285],\n",
       "        [ 1.13592205]]), array([[ 1.4645344 ],\n",
       "        [ 1.80977379],\n",
       "        [ 1.13572738]]), array([[ 1.46478288],\n",
       "        [ 1.81000539],\n",
       "        [ 1.13594114]])]"
      ]
     },
     "execution_count": 1249,
     "metadata": {},
     "output_type": "execute_result"
    }
   ],
   "source": [
    "##pred_scores\n",
    "pred[:5]"
   ]
  },
  {
   "cell_type": "code",
   "execution_count": 1250,
   "metadata": {
    "collapsed": false
   },
   "outputs": [],
   "source": [
    "# making max prediction score 1 and rest 0 for classificaton\n",
    "for i in range(len(pred)):\n",
    "    x = np.argmax(pred[i])\n",
    "    pred[i] = np.zeros(3)\n",
    "    pred[i][x] = 1\n",
    "    "
   ]
  },
  {
   "cell_type": "code",
   "execution_count": 1251,
   "metadata": {
    "collapsed": false
   },
   "outputs": [
    {
     "data": {
      "text/plain": [
       "[array([ 0.,  1.,  0.]),\n",
       " array([ 0.,  1.,  0.]),\n",
       " array([ 0.,  1.,  0.]),\n",
       " array([ 0.,  1.,  0.]),\n",
       " array([ 0.,  1.,  0.])]"
      ]
     },
     "execution_count": 1251,
     "metadata": {},
     "output_type": "execute_result"
    }
   ],
   "source": [
    "pred[:5]"
   ]
  },
  {
   "cell_type": "code",
   "execution_count": 1252,
   "metadata": {
    "collapsed": false
   },
   "outputs": [
    {
     "data": {
      "text/plain": [
       "array([[1, 0, 0],\n",
       "       [0, 1, 0],\n",
       "       [0, 1, 0],\n",
       "       [0, 1, 0],\n",
       "       [0, 0, 1]])"
      ]
     },
     "execution_count": 1252,
     "metadata": {},
     "output_type": "execute_result"
    }
   ],
   "source": [
    "y1_train[:5]"
   ]
  },
  {
   "cell_type": "code",
   "execution_count": 1253,
   "metadata": {
    "collapsed": false
   },
   "outputs": [
    {
     "data": {
      "text/plain": [
       "0.3016759776536313"
      ]
     },
     "execution_count": 1253,
     "metadata": {},
     "output_type": "execute_result"
    }
   ],
   "source": [
    "accuracy(y1_train,pred)"
   ]
  },
  {
   "cell_type": "code",
   "execution_count": null,
   "metadata": {
    "collapsed": true
   },
   "outputs": [],
   "source": []
  },
  {
   "cell_type": "code",
   "execution_count": null,
   "metadata": {
    "collapsed": true
   },
   "outputs": [],
   "source": []
  }
 ],
 "metadata": {
  "kernelspec": {
   "display_name": "Python 3",
   "language": "python",
   "name": "python3"
  },
  "language_info": {
   "codemirror_mode": {
    "name": "ipython",
    "version": 3
   },
   "file_extension": ".py",
   "mimetype": "text/x-python",
   "name": "python",
   "nbconvert_exporter": "python",
   "pygments_lexer": "ipython3",
   "version": "3.5.2"
  }
 },
 "nbformat": 4,
 "nbformat_minor": 2
}
