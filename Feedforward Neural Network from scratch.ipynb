{
 "cells": [
  {
   "cell_type": "code",
   "execution_count": 399,
   "metadata": {
    "collapsed": true,
    "deletable": true,
    "editable": true
   },
   "outputs": [],
   "source": [
    "import numpy as np\n",
    "import pandas as pd"
   ]
  },
  {
   "cell_type": "code",
   "execution_count": 400,
   "metadata": {
    "collapsed": true,
    "deletable": true,
    "editable": true
   },
   "outputs": [],
   "source": [
    "def network_structure(structure):\n",
    "    layers = len(structure)\n",
    "    #biases = [np.random.rand(y,1) for y in structure[1:]]\n",
    "    weights = [np.random.rand(x,y) for y,x in zip(structure[:-1],structure[1:]) ]\n",
    "    return layers,weights   \n",
    "        "
   ]
  },
  {
   "cell_type": "code",
   "execution_count": 401,
   "metadata": {
    "collapsed": false,
    "deletable": true,
    "editable": true
   },
   "outputs": [],
   "source": [
    "def sigmoid(x):\n",
    "    return 1.0/(1.0+np.exp(-x))"
   ]
  },
  {
   "cell_type": "code",
   "execution_count": 402,
   "metadata": {
    "collapsed": false,
    "deletable": true,
    "editable": true
   },
   "outputs": [],
   "source": [
    "def sigmoid_diff(x):\n",
    "    return sigmoid(x)*(1-sigmoid(x))"
   ]
  },
  {
   "cell_type": "code",
   "execution_count": 403,
   "metadata": {
    "collapsed": false,
    "deletable": true,
    "editable": true
   },
   "outputs": [],
   "source": [
    "def feedforward(x_input,weights):\n",
    "    z = [0]*layers\n",
    "    z[0] = x_input\n",
    "    for i in range(1,layers):\n",
    "        z[i] = (sigmoid(np.dot(weights[i-1],z[i-1])))\n",
    "    return z        "
   ]
  },
  {
   "cell_type": "code",
   "execution_count": 404,
   "metadata": {
    "collapsed": true,
    "deletable": true,
    "editable": true
   },
   "outputs": [],
   "source": [
    "def cost_derivative(output_activations,y,m):\n",
    "    return np.sum((1/m)*np.abs(y-output_activations))            "
   ]
  },
  {
   "cell_type": "code",
   "execution_count": 413,
   "metadata": {
    "collapsed": false,
    "deletable": true,
    "editable": true
   },
   "outputs": [],
   "source": [
    "def backprop(y,m,z,weights,lr):\n",
    "    grad_cw = [0]*(layers-1)\n",
    "    prod_1 = 1\n",
    "    for i in range(layers-1,0,-1):\n",
    "        prod = 1\n",
    "        if(prod_1!=1):\n",
    "            prod *= cost_derivative(z[layers-1],y,m)\n",
    "        prod = prod*prod_1*sigmoid_diff(z[i])\n",
    "        prod *= sigmoid_diff(np.dot(weights[i-1],z[i-1]))\n",
    "        prod1 = prod\n",
    "        try:\n",
    "            prod2 = prod*weights[i-1]*z[i-1].T\n",
    "        except:\n",
    "            prod2 = prod*z[i-1].T\n",
    "        grad_cw[i-1] = lr[i-1]*prod2\n",
    "    return grad_cw"
   ]
  },
  {
   "cell_type": "code",
   "execution_count": 406,
   "metadata": {
    "collapsed": false,
    "deletable": true,
    "editable": true
   },
   "outputs": [],
   "source": [
    "layers,weights = network_structure([1,5,5,1])\n",
    "learning_rates = [0.9,0.4,0.1] #for 3 weights matrices\n",
    "x_input = x[0]\n",
    "z = feedforward(x_input,weights)\n",
    "learning_rate = 0.1"
   ]
  },
  {
   "cell_type": "code",
   "execution_count": 407,
   "metadata": {
    "collapsed": true
   },
   "outputs": [],
   "source": [
    "x = np.arange(0,100)\n",
    "y = np.sin(x)"
   ]
  },
  {
   "cell_type": "code",
   "execution_count": 408,
   "metadata": {
    "collapsed": false,
    "scrolled": true
   },
   "outputs": [],
   "source": [
    "for i in range(len(x)):\n",
    "    x_input=x[i]\n",
    "    y1 = y[i]\n",
    "    z = feedforward(x_input,weights)\n",
    "    delta_cw = backprop(y1,1000,z,weights,learning_rates)       \n",
    "    weights = np.add(weights,delta_cw)"
   ]
  },
  {
   "cell_type": "code",
   "execution_count": 409,
   "metadata": {
    "collapsed": false
   },
   "outputs": [
    {
     "data": {
      "text/plain": [
       "[array([[ 0.],\n",
       "        [ 0.],\n",
       "        [ 0.],\n",
       "        [ 0.],\n",
       "        [ 0.]]),\n",
       " array([[ 0.00144534,  0.0005656 ,  0.00121321,  0.00105145,  0.00192509],\n",
       "        [ 0.00101198,  0.00185982,  0.00231802,  0.00055845,  0.00167806],\n",
       "        [ 0.00058976,  0.00138825,  0.00168843,  0.00136367,  0.00199462],\n",
       "        [ 0.00139701,  0.00107887,  0.00483113,  0.00107462,  0.00163189],\n",
       "        [ 0.00245785,  0.00170383,  0.00176823,  0.00114411,  0.0003344 ]]),\n",
       " array([[ 0.00105512,  0.00045841,  0.00054367,  0.0003576 ,  0.00048886]])]"
      ]
     },
     "execution_count": 409,
     "metadata": {},
     "output_type": "execute_result"
    }
   ],
   "source": [
    "delta_cw"
   ]
  },
  {
   "cell_type": "code",
   "execution_count": 410,
   "metadata": {
    "collapsed": false
   },
   "outputs": [],
   "source": [
    "mean_squared_error = 0\n",
    "pred = []\n",
    "for i in range(len(x)):\n",
    "    t = feedforward(x[i],weights)\n",
    "    pred.append(t[-1])\n",
    "    mean_squared_error += (y[i]-t[-1])**2\n",
    "    mean_squared_error /= 1000"
   ]
  },
  {
   "cell_type": "code",
   "execution_count": 411,
   "metadata": {
    "collapsed": false
   },
   "outputs": [
    {
     "data": {
      "text/plain": [
       "array([[ 0.0037919]])"
      ]
     },
     "execution_count": 411,
     "metadata": {},
     "output_type": "execute_result"
    }
   ],
   "source": [
    "mean_squared_error"
   ]
  },
  {
   "cell_type": "code",
   "execution_count": null,
   "metadata": {
    "collapsed": true
   },
   "outputs": [],
   "source": []
  }
 ],
 "metadata": {
  "kernelspec": {
   "display_name": "Python 3",
   "language": "python",
   "name": "python3"
  },
  "language_info": {
   "codemirror_mode": {
    "name": "ipython",
    "version": 3
   },
   "file_extension": ".py",
   "mimetype": "text/x-python",
   "name": "python",
   "nbconvert_exporter": "python",
   "pygments_lexer": "ipython3",
   "version": "3.5.2"
  }
 },
 "nbformat": 4,
 "nbformat_minor": 2
}
