{
 "cells": [
  {
   "cell_type": "markdown",
   "metadata": {
    "collapsed": false
   },
   "source": [
    "###  My Keras experiment on Energy Efficiency dataset"
   ]
  },
  {
   "cell_type": "raw",
   "metadata": {},
   "source": [
    "Dataset link - https://archive.ics.uci.edu/ml/datasets/Energy+efficiency"
   ]
  },
  {
   "cell_type": "code",
   "execution_count": 1209,
   "metadata": {
    "collapsed": true
   },
   "outputs": [],
   "source": [
    "import keras\n",
    "import pandas as pd\n",
    "import numpy as np\n",
    "import matplotlib.pyplot as plt\n",
    "from keras.models import Sequential\n",
    "from keras.layers import Dense\n",
    "from keras.optimizers import RMSprop\n",
    "from sklearn.utils import shuffle"
   ]
  },
  {
   "cell_type": "code",
   "execution_count": 1210,
   "metadata": {
    "collapsed": false
   },
   "outputs": [],
   "source": [
    "file = pd.read_excel(\"file.xlsx\",sheetname='sheet1')\n",
    "file = shuffle(file)"
   ]
  },
  {
   "cell_type": "markdown",
   "metadata": {},
   "source": [
    "#### Making categories for classification"
   ]
  },
  {
   "cell_type": "code",
   "execution_count": 1211,
   "metadata": {
    "collapsed": true
   },
   "outputs": [],
   "source": [
    "file['y1_category'] = file['Y1'].map(lambda x: 0 if (x>6.0) & (x<12) else (1 if((x>12) & (x<28))  else 2))\n",
    "file['y1_good'] = file['Y1'].map(lambda x: 1 if (x>6) & (x<14.5) else 0)\n",
    "file['y1_average'] = file['Y1'].map(lambda x: 1 if (x>14.5) & (x<28) else 0)\n",
    "file['y1_bad'] = file['Y1'].map(lambda x: 1 if (x>28) & (x<44) else 0)\n",
    "\n",
    "file['y2_category'] = file['Y2'].map(lambda x: 0 if (x>10.0) & (x<17.0) else (1 if((x>17.0) & (x<30.5))  else 2))\n",
    "file['y2_good'] = file['Y2'].map(lambda x: 1 if (x>10.0) & (x<17.0) else 0)\n",
    "file['y2_average'] = file['Y2'].map(lambda x: 1 if (x>17.0) & (x<30.5) else 0)\n",
    "file['y2_bad'] = file['Y2'].map(lambda x: 1 if (x>30.5) & (x<49) else 0)\n"
   ]
  },
  {
   "cell_type": "code",
   "execution_count": 1212,
   "metadata": {
    "collapsed": false,
    "scrolled": false
   },
   "outputs": [
    {
     "data": {
      "text/html": [
       "<div>\n",
       "<table border=\"1\" class=\"dataframe\">\n",
       "  <thead>\n",
       "    <tr style=\"text-align: right;\">\n",
       "      <th></th>\n",
       "      <th>X1</th>\n",
       "      <th>X2</th>\n",
       "      <th>X3</th>\n",
       "      <th>X4</th>\n",
       "      <th>X5</th>\n",
       "      <th>X6</th>\n",
       "      <th>X7</th>\n",
       "      <th>X8</th>\n",
       "      <th>Y1</th>\n",
       "      <th>Y2</th>\n",
       "      <th>y1_category</th>\n",
       "      <th>y1_good</th>\n",
       "      <th>y1_average</th>\n",
       "      <th>y1_bad</th>\n",
       "      <th>y2_category</th>\n",
       "      <th>y2_good</th>\n",
       "      <th>y2_average</th>\n",
       "      <th>y2_bad</th>\n",
       "    </tr>\n",
       "  </thead>\n",
       "  <tbody>\n",
       "    <tr>\n",
       "      <th>315</th>\n",
       "      <td>0.74</td>\n",
       "      <td>686.0</td>\n",
       "      <td>245.0</td>\n",
       "      <td>220.5</td>\n",
       "      <td>3.5</td>\n",
       "      <td>5</td>\n",
       "      <td>0.25</td>\n",
       "      <td>1</td>\n",
       "      <td>12.45</td>\n",
       "      <td>15.50</td>\n",
       "      <td>1</td>\n",
       "      <td>1</td>\n",
       "      <td>0</td>\n",
       "      <td>0</td>\n",
       "      <td>0</td>\n",
       "      <td>1</td>\n",
       "      <td>0</td>\n",
       "      <td>0</td>\n",
       "    </tr>\n",
       "    <tr>\n",
       "      <th>461</th>\n",
       "      <td>0.71</td>\n",
       "      <td>710.5</td>\n",
       "      <td>269.5</td>\n",
       "      <td>220.5</td>\n",
       "      <td>3.5</td>\n",
       "      <td>3</td>\n",
       "      <td>0.25</td>\n",
       "      <td>4</td>\n",
       "      <td>12.49</td>\n",
       "      <td>15.09</td>\n",
       "      <td>1</td>\n",
       "      <td>1</td>\n",
       "      <td>0</td>\n",
       "      <td>0</td>\n",
       "      <td>0</td>\n",
       "      <td>1</td>\n",
       "      <td>0</td>\n",
       "      <td>0</td>\n",
       "    </tr>\n",
       "    <tr>\n",
       "      <th>123</th>\n",
       "      <td>0.74</td>\n",
       "      <td>686.0</td>\n",
       "      <td>245.0</td>\n",
       "      <td>220.5</td>\n",
       "      <td>3.5</td>\n",
       "      <td>5</td>\n",
       "      <td>0.10</td>\n",
       "      <td>2</td>\n",
       "      <td>10.45</td>\n",
       "      <td>13.79</td>\n",
       "      <td>0</td>\n",
       "      <td>1</td>\n",
       "      <td>0</td>\n",
       "      <td>0</td>\n",
       "      <td>0</td>\n",
       "      <td>1</td>\n",
       "      <td>0</td>\n",
       "      <td>0</td>\n",
       "    </tr>\n",
       "    <tr>\n",
       "      <th>16</th>\n",
       "      <td>0.79</td>\n",
       "      <td>637.0</td>\n",
       "      <td>343.0</td>\n",
       "      <td>147.0</td>\n",
       "      <td>7.0</td>\n",
       "      <td>2</td>\n",
       "      <td>0.00</td>\n",
       "      <td>0</td>\n",
       "      <td>28.52</td>\n",
       "      <td>37.73</td>\n",
       "      <td>2</td>\n",
       "      <td>0</td>\n",
       "      <td>0</td>\n",
       "      <td>1</td>\n",
       "      <td>2</td>\n",
       "      <td>0</td>\n",
       "      <td>0</td>\n",
       "      <td>1</td>\n",
       "    </tr>\n",
       "    <tr>\n",
       "      <th>659</th>\n",
       "      <td>0.69</td>\n",
       "      <td>735.0</td>\n",
       "      <td>294.0</td>\n",
       "      <td>220.5</td>\n",
       "      <td>3.5</td>\n",
       "      <td>5</td>\n",
       "      <td>0.40</td>\n",
       "      <td>3</td>\n",
       "      <td>14.08</td>\n",
       "      <td>17.02</td>\n",
       "      <td>1</td>\n",
       "      <td>1</td>\n",
       "      <td>0</td>\n",
       "      <td>0</td>\n",
       "      <td>1</td>\n",
       "      <td>0</td>\n",
       "      <td>1</td>\n",
       "      <td>0</td>\n",
       "    </tr>\n",
       "  </tbody>\n",
       "</table>\n",
       "</div>"
      ],
      "text/plain": [
       "       X1     X2     X3     X4   X5  X6    X7  X8     Y1     Y2  y1_category  \\\n",
       "315  0.74  686.0  245.0  220.5  3.5   5  0.25   1  12.45  15.50            1   \n",
       "461  0.71  710.5  269.5  220.5  3.5   3  0.25   4  12.49  15.09            1   \n",
       "123  0.74  686.0  245.0  220.5  3.5   5  0.10   2  10.45  13.79            0   \n",
       "16   0.79  637.0  343.0  147.0  7.0   2  0.00   0  28.52  37.73            2   \n",
       "659  0.69  735.0  294.0  220.5  3.5   5  0.40   3  14.08  17.02            1   \n",
       "\n",
       "     y1_good  y1_average  y1_bad  y2_category  y2_good  y2_average  y2_bad  \n",
       "315        1           0       0            0        1           0       0  \n",
       "461        1           0       0            0        1           0       0  \n",
       "123        1           0       0            0        1           0       0  \n",
       "16         0           0       1            2        0           0       1  \n",
       "659        1           0       0            1        0           1       0  "
      ]
     },
     "execution_count": 1212,
     "metadata": {},
     "output_type": "execute_result"
    }
   ],
   "source": [
    "file.head()"
   ]
  },
  {
   "cell_type": "code",
   "execution_count": 1213,
   "metadata": {
    "collapsed": true
   },
   "outputs": [],
   "source": [
    "def accuracy(x):\n",
    "    f_sum = 0\n",
    "    d_sum = 0\n",
    "    p,q = x.shape\n",
    "    for i in range(p):\n",
    "        for j in range(q):\n",
    "            f_sum += x[i][j]\n",
    "            if (i==j):\n",
    "                d_sum += x[i][j]\n",
    "    \n",
    "    return d_sum/f_sum"
   ]
  },
  {
   "cell_type": "code",
   "execution_count": 1214,
   "metadata": {
    "collapsed": true
   },
   "outputs": [],
   "source": [
    "def neural_model(layers):\n",
    "    model = Sequential()\n",
    "    model.add(Dense(100, activation='relu', input_shape=(8,)))\n",
    "    if(layers>1):    \n",
    "        model.add(Dense(100, activation='relu'))\n",
    "    model.add(Dense(3, activation='softmax'))\n",
    "    return model\n",
    "    "
   ]
  },
  {
   "cell_type": "code",
   "execution_count": 1215,
   "metadata": {
    "collapsed": true
   },
   "outputs": [],
   "source": [
    "def initial_parameters(batch,epochs):\n",
    "    batch_size = batch\n",
    "    #num_classes = 3\n",
    "    epochs = epochs\n",
    "    "
   ]
  },
  {
   "cell_type": "code",
   "execution_count": 1216,
   "metadata": {
    "collapsed": true
   },
   "outputs": [],
   "source": [
    "def compile_model(model): \n",
    "    model.compile(optimizer=RMSprop(),\n",
    "    loss='categorical_crossentropy',\n",
    "    metrics = ['accuracy'])"
   ]
  },
  {
   "cell_type": "code",
   "execution_count": 1217,
   "metadata": {
    "collapsed": false
   },
   "outputs": [],
   "source": [
    "def fit_model(x,y,model):\n",
    "    history = model.fit(x, y, \n",
    "          batch_size=batch_size, \n",
    "          epochs=epochs, \n",
    "          validation_split = .2,\n",
    "          verbose=2)\n",
    "    return history"
   ]
  },
  {
   "cell_type": "code",
   "execution_count": null,
   "metadata": {
    "collapsed": true
   },
   "outputs": [],
   "source": []
  },
  {
   "cell_type": "markdown",
   "metadata": {},
   "source": [
    "### Splitting 70% data for training"
   ]
  },
  {
   "cell_type": "code",
   "execution_count": 1224,
   "metadata": {
    "collapsed": false
   },
   "outputs": [],
   "source": [
    "x_train_full = file.loc[:,'X1': 'X8']/file.loc[:,'X1':'X8'].max()\n",
    "x_train = np.array(x_train_full[:int(0.7*len(x_train_full))])\n",
    "y1_train_full = np.array(file.loc[:,'y1_good':'y1_bad'])\n",
    "y1_train = np.array(y1_train_full[:int(0.7*len(y1_train_full))])\n",
    "y2_train_full = np.array(file.loc[:,'y2_good':'y2_bad'])\n",
    "y2_train = np.array(y2_train_full[:int(0.7*len(y2_train_full))])"
   ]
  },
  {
   "cell_type": "markdown",
   "metadata": {},
   "source": [
    "### Splitting 30% data for testing"
   ]
  },
  {
   "cell_type": "code",
   "execution_count": 1225,
   "metadata": {
    "collapsed": true
   },
   "outputs": [],
   "source": [
    "x_test = np.array(x_train_full[(int(0.7*len(x_train_full))):])\n",
    "y1_test_full = np.array(file['y1_category'])\n",
    "y1_test = y1_test_full[int(0.7*len(y1_test_full)):]\n",
    "y2_test_full = np.array(file['y2_category'])\n",
    "y2_test = y2_test_full[int(0.7*len(y2_test_full)):]"
   ]
  },
  {
   "cell_type": "markdown",
   "metadata": {},
   "source": [
    "### Model  for target variable Y1"
   ]
  },
  {
   "cell_type": "code",
   "execution_count": 1226,
   "metadata": {
    "collapsed": false
   },
   "outputs": [],
   "source": [
    "batch = 16\n",
    "epochs = 20\n",
    "initial_parameters(batch,epochs)"
   ]
  },
  {
   "cell_type": "code",
   "execution_count": 1228,
   "metadata": {
    "collapsed": false
   },
   "outputs": [
    {
     "name": "stdout",
     "output_type": "stream",
     "text": [
      "Train on 429 samples, validate on 108 samples\n",
      "Epoch 1/20\n",
      "1s - loss: 1.0240 - acc: 0.5198 - val_loss: 0.9741 - val_acc: 0.6296\n",
      "Epoch 2/20\n",
      "0s - loss: 0.8706 - acc: 0.6876 - val_loss: 0.8083 - val_acc: 0.6481\n",
      "Epoch 3/20\n",
      "0s - loss: 0.7240 - acc: 0.7016 - val_loss: 0.7006 - val_acc: 0.6389\n",
      "Epoch 4/20\n",
      "0s - loss: 0.6185 - acc: 0.7226 - val_loss: 0.6337 - val_acc: 0.6944\n",
      "Epoch 5/20\n",
      "0s - loss: 0.5572 - acc: 0.7459 - val_loss: 0.6343 - val_acc: 0.6667\n",
      "Epoch 6/20\n",
      "0s - loss: 0.5189 - acc: 0.7925 - val_loss: 0.5739 - val_acc: 0.7315\n",
      "Epoch 7/20\n",
      "0s - loss: 0.4945 - acc: 0.7995 - val_loss: 0.5619 - val_acc: 0.7037\n",
      "Epoch 8/20\n",
      "0s - loss: 0.4757 - acc: 0.7972 - val_loss: 0.5534 - val_acc: 0.7315\n",
      "Epoch 9/20\n",
      "0s - loss: 0.4638 - acc: 0.7902 - val_loss: 0.5408 - val_acc: 0.7407\n",
      "Epoch 10/20\n",
      "0s - loss: 0.4434 - acc: 0.7949 - val_loss: 0.5506 - val_acc: 0.7037\n",
      "Epoch 11/20\n",
      "0s - loss: 0.4473 - acc: 0.7902 - val_loss: 0.5327 - val_acc: 0.7407\n",
      "Epoch 12/20\n",
      "0s - loss: 0.4258 - acc: 0.8159 - val_loss: 0.5126 - val_acc: 0.7593\n",
      "Epoch 13/20\n",
      "0s - loss: 0.4245 - acc: 0.8112 - val_loss: 0.5315 - val_acc: 0.7500\n",
      "Epoch 14/20\n",
      "0s - loss: 0.4139 - acc: 0.8089 - val_loss: 0.5137 - val_acc: 0.7500\n",
      "Epoch 15/20\n",
      "0s - loss: 0.4118 - acc: 0.8182 - val_loss: 0.5024 - val_acc: 0.7407\n",
      "Epoch 16/20\n",
      "0s - loss: 0.4027 - acc: 0.7995 - val_loss: 0.5065 - val_acc: 0.7685\n",
      "Epoch 17/20\n",
      "0s - loss: 0.4017 - acc: 0.8228 - val_loss: 0.5039 - val_acc: 0.7870\n",
      "Epoch 18/20\n",
      "0s - loss: 0.3865 - acc: 0.8252 - val_loss: 0.4974 - val_acc: 0.7870\n",
      "Epoch 19/20\n",
      "0s - loss: 0.3864 - acc: 0.8322 - val_loss: 0.5266 - val_acc: 0.7685\n",
      "Epoch 20/20\n",
      "0s - loss: 0.3926 - acc: 0.8042 - val_loss: 0.4831 - val_acc: 0.7685\n",
      "Train on 429 samples, validate on 108 samples\n",
      "Epoch 1/20\n",
      "1s - loss: 1.0175 - acc: 0.5618 - val_loss: 0.9571 - val_acc: 0.6204\n",
      "Epoch 2/20\n",
      "0s - loss: 0.8454 - acc: 0.6876 - val_loss: 0.7930 - val_acc: 0.6759\n",
      "Epoch 3/20\n",
      "0s - loss: 0.6995 - acc: 0.7203 - val_loss: 0.6898 - val_acc: 0.6481\n",
      "Epoch 4/20\n",
      "0s - loss: 0.6111 - acc: 0.7249 - val_loss: 0.6185 - val_acc: 0.7130\n",
      "Epoch 5/20\n",
      "0s - loss: 0.5522 - acc: 0.7809 - val_loss: 0.6229 - val_acc: 0.6944\n",
      "Epoch 6/20\n",
      "0s - loss: 0.5184 - acc: 0.7739 - val_loss: 0.5684 - val_acc: 0.7222\n",
      "Epoch 7/20\n",
      "0s - loss: 0.4865 - acc: 0.7949 - val_loss: 0.5609 - val_acc: 0.7037\n",
      "Epoch 8/20\n",
      "0s - loss: 0.4709 - acc: 0.8135 - val_loss: 0.5827 - val_acc: 0.7500\n",
      "Epoch 9/20\n",
      "0s - loss: 0.4494 - acc: 0.7879 - val_loss: 0.5506 - val_acc: 0.7037\n",
      "Epoch 10/20\n",
      "0s - loss: 0.4421 - acc: 0.7949 - val_loss: 0.5215 - val_acc: 0.7500\n",
      "Epoch 11/20\n",
      "0s - loss: 0.4300 - acc: 0.7972 - val_loss: 0.5706 - val_acc: 0.7593\n",
      "Epoch 12/20\n",
      "0s - loss: 0.4265 - acc: 0.8112 - val_loss: 0.5289 - val_acc: 0.7407\n",
      "Epoch 13/20\n",
      "0s - loss: 0.4037 - acc: 0.8275 - val_loss: 0.4977 - val_acc: 0.7500\n",
      "Epoch 14/20\n",
      "0s - loss: 0.4013 - acc: 0.8252 - val_loss: 0.5100 - val_acc: 0.7500\n",
      "Epoch 15/20\n",
      "0s - loss: 0.4065 - acc: 0.8159 - val_loss: 0.5261 - val_acc: 0.7407\n",
      "Epoch 16/20\n",
      "0s - loss: 0.3957 - acc: 0.8159 - val_loss: 0.4894 - val_acc: 0.7593\n",
      "Epoch 17/20\n",
      "0s - loss: 0.3867 - acc: 0.8228 - val_loss: 0.5161 - val_acc: 0.7685\n",
      "Epoch 18/20\n",
      "0s - loss: 0.3874 - acc: 0.8228 - val_loss: 0.4994 - val_acc: 0.7963\n",
      "Epoch 19/20\n",
      "0s - loss: 0.3826 - acc: 0.8159 - val_loss: 0.5639 - val_acc: 0.7685\n",
      "Epoch 20/20\n",
      "0s - loss: 0.3811 - acc: 0.8159 - val_loss: 0.5065 - val_acc: 0.7685\n",
      "Train on 429 samples, validate on 108 samples\n",
      "Epoch 1/20\n",
      "1s - loss: 1.0237 - acc: 0.5548 - val_loss: 0.9683 - val_acc: 0.6481\n",
      "Epoch 2/20\n",
      "0s - loss: 0.8767 - acc: 0.6970 - val_loss: 0.8403 - val_acc: 0.6481\n",
      "Epoch 3/20\n",
      "0s - loss: 0.7408 - acc: 0.7110 - val_loss: 0.7432 - val_acc: 0.7222\n",
      "Epoch 4/20\n",
      "0s - loss: 0.6372 - acc: 0.7296 - val_loss: 0.6490 - val_acc: 0.7130\n",
      "Epoch 5/20\n",
      "0s - loss: 0.5747 - acc: 0.7273 - val_loss: 0.6044 - val_acc: 0.7037\n",
      "Epoch 6/20\n",
      "0s - loss: 0.5303 - acc: 0.7459 - val_loss: 0.6170 - val_acc: 0.6759\n",
      "Epoch 7/20\n",
      "0s - loss: 0.5030 - acc: 0.7762 - val_loss: 0.5768 - val_acc: 0.7037\n",
      "Epoch 8/20\n",
      "0s - loss: 0.4772 - acc: 0.7949 - val_loss: 0.5444 - val_acc: 0.7407\n",
      "Epoch 9/20\n",
      "0s - loss: 0.4664 - acc: 0.7902 - val_loss: 0.5536 - val_acc: 0.7500\n",
      "Epoch 10/20\n",
      "0s - loss: 0.4477 - acc: 0.8252 - val_loss: 0.5347 - val_acc: 0.7593\n",
      "Epoch 11/20\n",
      "0s - loss: 0.4444 - acc: 0.8065 - val_loss: 0.5139 - val_acc: 0.7407\n",
      "Epoch 12/20\n",
      "0s - loss: 0.4233 - acc: 0.8228 - val_loss: 0.5305 - val_acc: 0.7500\n",
      "Epoch 13/20\n",
      "0s - loss: 0.4215 - acc: 0.8298 - val_loss: 0.4995 - val_acc: 0.7593\n",
      "Epoch 14/20\n",
      "0s - loss: 0.4133 - acc: 0.8089 - val_loss: 0.4965 - val_acc: 0.7685\n",
      "Epoch 15/20\n",
      "0s - loss: 0.4016 - acc: 0.8135 - val_loss: 0.5588 - val_acc: 0.7593\n",
      "Epoch 16/20\n",
      "0s - loss: 0.3897 - acc: 0.8345 - val_loss: 0.5678 - val_acc: 0.7500\n",
      "Epoch 17/20\n",
      "0s - loss: 0.3814 - acc: 0.8322 - val_loss: 0.4826 - val_acc: 0.7685\n",
      "Epoch 18/20\n",
      "0s - loss: 0.3867 - acc: 0.8205 - val_loss: 0.4624 - val_acc: 0.7593\n",
      "Epoch 19/20\n",
      "0s - loss: 0.3881 - acc: 0.8205 - val_loss: 0.4741 - val_acc: 0.7593\n",
      "Epoch 20/20\n",
      "0s - loss: 0.3711 - acc: 0.8415 - val_loss: 0.4613 - val_acc: 0.7593\n",
      "Train on 429 samples, validate on 108 samples\n",
      "Epoch 1/20\n",
      "1s - loss: 1.0167 - acc: 0.6014 - val_loss: 0.9279 - val_acc: 0.6574\n",
      "Epoch 2/20\n",
      "0s - loss: 0.8237 - acc: 0.7040 - val_loss: 0.8040 - val_acc: 0.6481\n",
      "Epoch 3/20\n",
      "0s - loss: 0.6882 - acc: 0.7016 - val_loss: 0.7132 - val_acc: 0.6944\n",
      "Epoch 4/20\n",
      "0s - loss: 0.6037 - acc: 0.7343 - val_loss: 0.6190 - val_acc: 0.6667\n",
      "Epoch 5/20\n",
      "0s - loss: 0.5443 - acc: 0.7529 - val_loss: 0.5976 - val_acc: 0.6759\n",
      "Epoch 6/20\n",
      "0s - loss: 0.5124 - acc: 0.7669 - val_loss: 0.5779 - val_acc: 0.7407\n",
      "Epoch 7/20\n",
      "0s - loss: 0.4825 - acc: 0.7949 - val_loss: 0.5788 - val_acc: 0.7037\n",
      "Epoch 8/20\n",
      "0s - loss: 0.4658 - acc: 0.7972 - val_loss: 0.5392 - val_acc: 0.7500\n",
      "Epoch 9/20\n",
      "0s - loss: 0.4485 - acc: 0.8228 - val_loss: 0.5450 - val_acc: 0.7778\n",
      "Epoch 10/20\n",
      "0s - loss: 0.4328 - acc: 0.8159 - val_loss: 0.5221 - val_acc: 0.7685\n",
      "Epoch 11/20\n",
      "0s - loss: 0.4226 - acc: 0.8228 - val_loss: 0.4949 - val_acc: 0.7778\n",
      "Epoch 12/20\n",
      "0s - loss: 0.4090 - acc: 0.8205 - val_loss: 0.4848 - val_acc: 0.7778\n",
      "Epoch 13/20\n",
      "0s - loss: 0.4039 - acc: 0.8182 - val_loss: 0.4941 - val_acc: 0.7593\n",
      "Epoch 14/20\n",
      "0s - loss: 0.3936 - acc: 0.8298 - val_loss: 0.4781 - val_acc: 0.7500\n",
      "Epoch 15/20\n",
      "0s - loss: 0.3974 - acc: 0.8089 - val_loss: 0.5015 - val_acc: 0.7963\n",
      "Epoch 16/20\n",
      "0s - loss: 0.3802 - acc: 0.8298 - val_loss: 0.4884 - val_acc: 0.7963\n",
      "Epoch 17/20\n",
      "0s - loss: 0.3782 - acc: 0.8275 - val_loss: 0.5019 - val_acc: 0.7870\n",
      "Epoch 18/20\n",
      "0s - loss: 0.3769 - acc: 0.8345 - val_loss: 0.4548 - val_acc: 0.7870\n",
      "Epoch 19/20\n",
      "0s - loss: 0.3620 - acc: 0.8275 - val_loss: 0.4577 - val_acc: 0.8056\n",
      "Epoch 20/20\n",
      "0s - loss: 0.3683 - acc: 0.8345 - val_loss: 0.4549 - val_acc: 0.7963\n",
      "Train on 429 samples, validate on 108 samples\n",
      "Epoch 1/20\n",
      "1s - loss: 0.9826 - acc: 0.5221 - val_loss: 0.8986 - val_acc: 0.6481\n",
      "Epoch 2/20\n",
      "0s - loss: 0.7877 - acc: 0.6946 - val_loss: 0.7408 - val_acc: 0.6944\n",
      "Epoch 3/20\n",
      "0s - loss: 0.6664 - acc: 0.7016 - val_loss: 0.6750 - val_acc: 0.6296\n",
      "Epoch 4/20\n",
      "0s - loss: 0.5933 - acc: 0.7296 - val_loss: 0.6319 - val_acc: 0.6852\n",
      "Epoch 5/20\n",
      "0s - loss: 0.5484 - acc: 0.7459 - val_loss: 0.6656 - val_acc: 0.6574\n",
      "Epoch 6/20\n",
      "0s - loss: 0.5243 - acc: 0.7669 - val_loss: 0.6358 - val_acc: 0.6667\n",
      "Epoch 7/20\n",
      "0s - loss: 0.5056 - acc: 0.7692 - val_loss: 0.5832 - val_acc: 0.7130\n",
      "Epoch 8/20\n",
      "0s - loss: 0.4761 - acc: 0.7995 - val_loss: 0.5831 - val_acc: 0.7222\n",
      "Epoch 9/20\n",
      "0s - loss: 0.4740 - acc: 0.7832 - val_loss: 0.5558 - val_acc: 0.7130\n",
      "Epoch 10/20\n",
      "0s - loss: 0.4603 - acc: 0.8042 - val_loss: 0.5557 - val_acc: 0.7407\n",
      "Epoch 11/20\n",
      "0s - loss: 0.4473 - acc: 0.8065 - val_loss: 0.5389 - val_acc: 0.7407\n",
      "Epoch 12/20\n",
      "0s - loss: 0.4331 - acc: 0.8089 - val_loss: 0.5478 - val_acc: 0.6667\n",
      "Epoch 13/20\n",
      "0s - loss: 0.4348 - acc: 0.8065 - val_loss: 0.5251 - val_acc: 0.7407\n",
      "Epoch 14/20\n",
      "0s - loss: 0.4177 - acc: 0.8135 - val_loss: 0.5721 - val_acc: 0.7500\n",
      "Epoch 15/20\n",
      "0s - loss: 0.4180 - acc: 0.8112 - val_loss: 0.5364 - val_acc: 0.7593\n",
      "Epoch 16/20\n",
      "0s - loss: 0.4137 - acc: 0.8135 - val_loss: 0.5223 - val_acc: 0.7593\n",
      "Epoch 17/20\n",
      "0s - loss: 0.3978 - acc: 0.8112 - val_loss: 0.4943 - val_acc: 0.7593\n",
      "Epoch 18/20\n",
      "0s - loss: 0.3853 - acc: 0.8252 - val_loss: 0.4931 - val_acc: 0.7593\n",
      "Epoch 19/20\n",
      "0s - loss: 0.3961 - acc: 0.8322 - val_loss: 0.5085 - val_acc: 0.7685\n",
      "Epoch 20/20\n",
      "0s - loss: 0.3849 - acc: 0.8298 - val_loss: 0.4946 - val_acc: 0.7870\n",
      "Train on 429 samples, validate on 108 samples\n",
      "Epoch 1/20\n",
      "1s - loss: 0.9563 - acc: 0.6037 - val_loss: 0.8713 - val_acc: 0.6389\n",
      "Epoch 2/20\n",
      "0s - loss: 0.7716 - acc: 0.7040 - val_loss: 0.7353 - val_acc: 0.6481\n",
      "Epoch 3/20\n",
      "0s - loss: 0.6523 - acc: 0.6993 - val_loss: 0.6465 - val_acc: 0.6852\n",
      "Epoch 4/20\n",
      "0s - loss: 0.5784 - acc: 0.7599 - val_loss: 0.6199 - val_acc: 0.7037\n",
      "Epoch 5/20\n",
      "0s - loss: 0.5236 - acc: 0.7552 - val_loss: 0.5814 - val_acc: 0.7130\n",
      "Epoch 6/20\n",
      "0s - loss: 0.4944 - acc: 0.7762 - val_loss: 0.5524 - val_acc: 0.6944\n",
      "Epoch 7/20\n",
      "0s - loss: 0.4698 - acc: 0.7972 - val_loss: 0.5890 - val_acc: 0.7130\n",
      "Epoch 8/20\n",
      "0s - loss: 0.4606 - acc: 0.8042 - val_loss: 0.5293 - val_acc: 0.7222\n",
      "Epoch 9/20\n",
      "0s - loss: 0.4434 - acc: 0.8159 - val_loss: 0.5371 - val_acc: 0.7222\n",
      "Epoch 10/20\n",
      "0s - loss: 0.4273 - acc: 0.8042 - val_loss: 0.5179 - val_acc: 0.7593\n",
      "Epoch 11/20\n",
      "0s - loss: 0.4156 - acc: 0.8065 - val_loss: 0.4891 - val_acc: 0.7778\n",
      "Epoch 12/20\n",
      "0s - loss: 0.4156 - acc: 0.8205 - val_loss: 0.5869 - val_acc: 0.7315\n",
      "Epoch 13/20\n",
      "0s - loss: 0.4044 - acc: 0.8345 - val_loss: 0.5478 - val_acc: 0.7593\n",
      "Epoch 14/20\n",
      "0s - loss: 0.3910 - acc: 0.8275 - val_loss: 0.4873 - val_acc: 0.7963\n",
      "Epoch 15/20\n",
      "0s - loss: 0.3946 - acc: 0.8135 - val_loss: 0.4710 - val_acc: 0.7685\n",
      "Epoch 16/20\n",
      "0s - loss: 0.3894 - acc: 0.8205 - val_loss: 0.4612 - val_acc: 0.7685\n",
      "Epoch 17/20\n",
      "0s - loss: 0.3799 - acc: 0.8368 - val_loss: 0.4600 - val_acc: 0.7778\n",
      "Epoch 18/20\n",
      "0s - loss: 0.3641 - acc: 0.8392 - val_loss: 0.5085 - val_acc: 0.7500\n",
      "Epoch 19/20\n",
      "0s - loss: 0.3720 - acc: 0.8415 - val_loss: 0.4658 - val_acc: 0.7778\n",
      "Epoch 20/20\n",
      "0s - loss: 0.3714 - acc: 0.8275 - val_loss: 0.4538 - val_acc: 0.7778\n",
      "Train on 429 samples, validate on 108 samples\n",
      "Epoch 1/20\n",
      "1s - loss: 0.9924 - acc: 0.6177 - val_loss: 0.9156 - val_acc: 0.6667\n",
      "Epoch 2/20\n",
      "0s - loss: 0.8314 - acc: 0.7016 - val_loss: 0.7976 - val_acc: 0.6389\n",
      "Epoch 3/20\n",
      "0s - loss: 0.7075 - acc: 0.7063 - val_loss: 0.7023 - val_acc: 0.6481\n",
      "Epoch 4/20\n",
      "0s - loss: 0.6112 - acc: 0.7296 - val_loss: 0.6297 - val_acc: 0.7315\n",
      "Epoch 5/20\n",
      "0s - loss: 0.5559 - acc: 0.7552 - val_loss: 0.5863 - val_acc: 0.7315\n",
      "Epoch 6/20\n",
      "0s - loss: 0.5207 - acc: 0.7786 - val_loss: 0.5709 - val_acc: 0.7222\n",
      "Epoch 7/20\n",
      "0s - loss: 0.4806 - acc: 0.7972 - val_loss: 0.5579 - val_acc: 0.6944\n",
      "Epoch 8/20\n",
      "0s - loss: 0.4794 - acc: 0.7855 - val_loss: 0.5645 - val_acc: 0.7593\n",
      "Epoch 9/20\n",
      "0s - loss: 0.4491 - acc: 0.8112 - val_loss: 0.5654 - val_acc: 0.7315\n",
      "Epoch 10/20\n",
      "0s - loss: 0.4431 - acc: 0.8089 - val_loss: 0.5562 - val_acc: 0.7407\n",
      "Epoch 11/20\n",
      "0s - loss: 0.4346 - acc: 0.8112 - val_loss: 0.5311 - val_acc: 0.7407\n",
      "Epoch 12/20\n",
      "0s - loss: 0.4245 - acc: 0.8112 - val_loss: 0.5858 - val_acc: 0.7685\n",
      "Epoch 13/20\n",
      "0s - loss: 0.4202 - acc: 0.7972 - val_loss: 0.5194 - val_acc: 0.7407\n",
      "Epoch 14/20\n",
      "0s - loss: 0.4159 - acc: 0.8159 - val_loss: 0.5475 - val_acc: 0.7778\n",
      "Epoch 15/20\n",
      "0s - loss: 0.4073 - acc: 0.7995 - val_loss: 0.6018 - val_acc: 0.7407\n",
      "Epoch 16/20\n",
      "0s - loss: 0.3894 - acc: 0.8275 - val_loss: 0.4796 - val_acc: 0.7593\n",
      "Epoch 17/20\n",
      "0s - loss: 0.3916 - acc: 0.8298 - val_loss: 0.5009 - val_acc: 0.7870\n",
      "Epoch 18/20\n",
      "0s - loss: 0.3772 - acc: 0.8485 - val_loss: 0.5218 - val_acc: 0.7500\n",
      "Epoch 19/20\n",
      "0s - loss: 0.3816 - acc: 0.8415 - val_loss: 0.4577 - val_acc: 0.7870\n",
      "Epoch 20/20\n",
      "0s - loss: 0.3845 - acc: 0.8252 - val_loss: 0.4836 - val_acc: 0.7963\n",
      "Train on 429 samples, validate on 108 samples\n",
      "Epoch 1/20\n",
      "1s - loss: 0.9784 - acc: 0.6014 - val_loss: 0.8771 - val_acc: 0.6667\n",
      "Epoch 2/20\n",
      "0s - loss: 0.7877 - acc: 0.7226 - val_loss: 0.7366 - val_acc: 0.6852\n",
      "Epoch 3/20\n",
      "0s - loss: 0.6484 - acc: 0.7179 - val_loss: 0.6301 - val_acc: 0.7222\n",
      "Epoch 4/20\n",
      "0s - loss: 0.5660 - acc: 0.7506 - val_loss: 0.6032 - val_acc: 0.6667\n",
      "Epoch 5/20\n",
      "0s - loss: 0.5158 - acc: 0.7646 - val_loss: 0.5709 - val_acc: 0.7037\n",
      "Epoch 6/20\n",
      "0s - loss: 0.4754 - acc: 0.7879 - val_loss: 0.5620 - val_acc: 0.7037\n",
      "Epoch 7/20\n",
      "0s - loss: 0.4460 - acc: 0.8065 - val_loss: 0.5541 - val_acc: 0.7685\n",
      "Epoch 8/20\n",
      "0s - loss: 0.4409 - acc: 0.8112 - val_loss: 0.5164 - val_acc: 0.7500\n",
      "Epoch 9/20\n",
      "0s - loss: 0.4349 - acc: 0.8065 - val_loss: 0.5075 - val_acc: 0.7407\n",
      "Epoch 10/20\n",
      "0s - loss: 0.4210 - acc: 0.8228 - val_loss: 0.5019 - val_acc: 0.7407\n",
      "Epoch 11/20\n",
      "0s - loss: 0.4077 - acc: 0.8345 - val_loss: 0.5111 - val_acc: 0.7870\n",
      "Epoch 12/20\n",
      "0s - loss: 0.4040 - acc: 0.8065 - val_loss: 0.4989 - val_acc: 0.7963\n",
      "Epoch 13/20\n",
      "0s - loss: 0.3861 - acc: 0.8298 - val_loss: 0.5744 - val_acc: 0.7778\n",
      "Epoch 14/20\n",
      "0s - loss: 0.3877 - acc: 0.8415 - val_loss: 0.4712 - val_acc: 0.7685\n",
      "Epoch 15/20\n",
      "0s - loss: 0.3774 - acc: 0.8228 - val_loss: 0.5155 - val_acc: 0.7778\n",
      "Epoch 16/20\n",
      "0s - loss: 0.3758 - acc: 0.8345 - val_loss: 0.4542 - val_acc: 0.7593\n",
      "Epoch 17/20\n",
      "0s - loss: 0.3681 - acc: 0.8508 - val_loss: 0.4545 - val_acc: 0.8241\n",
      "Epoch 18/20\n",
      "0s - loss: 0.3622 - acc: 0.8438 - val_loss: 0.5010 - val_acc: 0.6944\n",
      "Epoch 19/20\n",
      "0s - loss: 0.3688 - acc: 0.8345 - val_loss: 0.5318 - val_acc: 0.7870\n",
      "Epoch 20/20\n",
      "0s - loss: 0.3619 - acc: 0.8368 - val_loss: 0.4391 - val_acc: 0.8056\n",
      "Train on 429 samples, validate on 108 samples\n",
      "Epoch 1/20\n",
      "1s - loss: 0.9867 - acc: 0.5851 - val_loss: 0.9117 - val_acc: 0.5741\n",
      "Epoch 2/20\n",
      "0s - loss: 0.8052 - acc: 0.6970 - val_loss: 0.7664 - val_acc: 0.6481\n",
      "Epoch 3/20\n",
      "0s - loss: 0.6659 - acc: 0.7040 - val_loss: 0.6936 - val_acc: 0.6759\n",
      "Epoch 4/20\n",
      "0s - loss: 0.5843 - acc: 0.7506 - val_loss: 0.6313 - val_acc: 0.6852\n",
      "Epoch 5/20\n",
      "0s - loss: 0.5343 - acc: 0.7622 - val_loss: 0.5949 - val_acc: 0.7222\n",
      "Epoch 6/20\n",
      "0s - loss: 0.5017 - acc: 0.7786 - val_loss: 0.5609 - val_acc: 0.7037\n",
      "Epoch 7/20\n",
      "0s - loss: 0.4775 - acc: 0.8019 - val_loss: 0.5497 - val_acc: 0.7500\n",
      "Epoch 8/20\n",
      "0s - loss: 0.4585 - acc: 0.7972 - val_loss: 0.5241 - val_acc: 0.7407\n",
      "Epoch 9/20\n",
      "0s - loss: 0.4362 - acc: 0.8135 - val_loss: 0.5435 - val_acc: 0.7593\n",
      "Epoch 10/20\n",
      "0s - loss: 0.4292 - acc: 0.7972 - val_loss: 0.6229 - val_acc: 0.7130\n",
      "Epoch 11/20\n",
      "0s - loss: 0.4191 - acc: 0.8228 - val_loss: 0.5067 - val_acc: 0.7500\n",
      "Epoch 12/20\n",
      "0s - loss: 0.4204 - acc: 0.8112 - val_loss: 0.5013 - val_acc: 0.7500\n",
      "Epoch 13/20\n",
      "0s - loss: 0.4014 - acc: 0.8112 - val_loss: 0.5804 - val_acc: 0.7593\n",
      "Epoch 14/20\n",
      "0s - loss: 0.4039 - acc: 0.8205 - val_loss: 0.4785 - val_acc: 0.7778\n",
      "Epoch 15/20\n",
      "0s - loss: 0.3940 - acc: 0.8205 - val_loss: 0.4903 - val_acc: 0.7778\n",
      "Epoch 16/20\n",
      "0s - loss: 0.3935 - acc: 0.8252 - val_loss: 0.5076 - val_acc: 0.7870\n",
      "Epoch 17/20\n",
      "0s - loss: 0.3802 - acc: 0.8368 - val_loss: 0.5127 - val_acc: 0.7870\n",
      "Epoch 18/20\n",
      "0s - loss: 0.3815 - acc: 0.8159 - val_loss: 0.4753 - val_acc: 0.7593\n",
      "Epoch 19/20\n",
      "0s - loss: 0.3601 - acc: 0.8485 - val_loss: 0.5079 - val_acc: 0.7778\n",
      "Epoch 20/20\n",
      "0s - loss: 0.3825 - acc: 0.8159 - val_loss: 0.4736 - val_acc: 0.8056\n",
      "Train on 429 samples, validate on 108 samples\n",
      "Epoch 1/20\n",
      "1s - loss: 1.0139 - acc: 0.4988 - val_loss: 0.9205 - val_acc: 0.6296\n",
      "Epoch 2/20\n",
      "0s - loss: 0.8460 - acc: 0.6876 - val_loss: 0.7770 - val_acc: 0.6852\n",
      "Epoch 3/20\n",
      "0s - loss: 0.6999 - acc: 0.7086 - val_loss: 0.6784 - val_acc: 0.6944\n",
      "Epoch 4/20\n",
      "0s - loss: 0.6070 - acc: 0.7389 - val_loss: 0.6094 - val_acc: 0.6944\n",
      "Epoch 5/20\n",
      "0s - loss: 0.5442 - acc: 0.7599 - val_loss: 0.5832 - val_acc: 0.7222\n",
      "Epoch 6/20\n",
      "0s - loss: 0.5019 - acc: 0.7832 - val_loss: 0.6163 - val_acc: 0.6944\n",
      "Epoch 7/20\n",
      "0s - loss: 0.4780 - acc: 0.7995 - val_loss: 0.5596 - val_acc: 0.7407\n",
      "Epoch 8/20\n",
      "0s - loss: 0.4573 - acc: 0.8112 - val_loss: 0.5317 - val_acc: 0.7315\n",
      "Epoch 9/20\n",
      "0s - loss: 0.4419 - acc: 0.8065 - val_loss: 0.5118 - val_acc: 0.7407\n",
      "Epoch 10/20\n",
      "0s - loss: 0.4232 - acc: 0.8112 - val_loss: 0.5269 - val_acc: 0.7685\n",
      "Epoch 11/20\n",
      "0s - loss: 0.4255 - acc: 0.8042 - val_loss: 0.4995 - val_acc: 0.7500\n",
      "Epoch 12/20\n",
      "0s - loss: 0.4200 - acc: 0.8205 - val_loss: 0.5628 - val_acc: 0.7685\n",
      "Epoch 13/20\n",
      "0s - loss: 0.3883 - acc: 0.8159 - val_loss: 0.4732 - val_acc: 0.7685\n",
      "Epoch 14/20\n",
      "0s - loss: 0.3910 - acc: 0.8298 - val_loss: 0.4995 - val_acc: 0.7500\n",
      "Epoch 15/20\n",
      "0s - loss: 0.3852 - acc: 0.8135 - val_loss: 0.5637 - val_acc: 0.7778\n",
      "Epoch 16/20\n",
      "0s - loss: 0.3695 - acc: 0.8485 - val_loss: 0.5088 - val_acc: 0.7963\n",
      "Epoch 17/20\n",
      "0s - loss: 0.3781 - acc: 0.8275 - val_loss: 0.4696 - val_acc: 0.8056\n",
      "Epoch 18/20\n",
      "0s - loss: 0.3610 - acc: 0.8275 - val_loss: 0.4421 - val_acc: 0.7778\n",
      "Epoch 19/20\n",
      "0s - loss: 0.3516 - acc: 0.8345 - val_loss: 0.4911 - val_acc: 0.7593\n",
      "Epoch 20/20\n",
      "0s - loss: 0.3586 - acc: 0.8508 - val_loss: 0.4492 - val_acc: 0.7963\n"
     ]
    }
   ],
   "source": [
    "layers = 10\n",
    "history = []\n",
    "test_acc = []\n",
    "train_acc = []\n",
    "for i in range(1,layers+1):\n",
    "    model = neural_model(layers)\n",
    "    compile_model(model)\n",
    "    history = (fit_model(x_train,y1_train,model))\n",
    "    #a,b = ret_accuracy(model,history,y1_test)\n",
    "    #train_acc.append(a)\n",
    "    #test_acc.append(b)\n",
    "    \n",
    "    "
   ]
  },
  {
   "cell_type": "code",
   "execution_count": 1179,
   "metadata": {
    "collapsed": true
   },
   "outputs": [],
   "source": []
  },
  {
   "cell_type": "code",
   "execution_count": 1189,
   "metadata": {
    "collapsed": false
   },
   "outputs": [
    {
     "name": "stdout",
     "output_type": "stream",
     "text": [
      "Train on 429 samples, validate on 108 samples\n",
      "Epoch 1/20\n",
      "0s - loss: 0.3789 - acc: 0.8205 - val_loss: 0.4275 - val_acc: 0.8333\n",
      "Epoch 2/20\n",
      "0s - loss: 0.3728 - acc: 0.8252 - val_loss: 0.3970 - val_acc: 0.8056\n",
      "Epoch 3/20\n",
      "0s - loss: 0.3702 - acc: 0.8322 - val_loss: 0.3837 - val_acc: 0.8241\n",
      "Epoch 4/20\n",
      "0s - loss: 0.3593 - acc: 0.8368 - val_loss: 0.3791 - val_acc: 0.8148\n",
      "Epoch 5/20\n",
      "0s - loss: 0.3580 - acc: 0.8462 - val_loss: 0.4031 - val_acc: 0.8241\n",
      "Epoch 6/20\n",
      "0s - loss: 0.3699 - acc: 0.8322 - val_loss: 0.4222 - val_acc: 0.8148\n",
      "Epoch 7/20\n",
      "0s - loss: 0.3504 - acc: 0.8322 - val_loss: 0.3937 - val_acc: 0.8241\n",
      "Epoch 8/20\n",
      "0s - loss: 0.3588 - acc: 0.8345 - val_loss: 0.3751 - val_acc: 0.7963\n",
      "Epoch 9/20\n",
      "0s - loss: 0.3486 - acc: 0.8462 - val_loss: 0.4328 - val_acc: 0.7870\n",
      "Epoch 10/20\n",
      "0s - loss: 0.3516 - acc: 0.8462 - val_loss: 0.3888 - val_acc: 0.8148\n",
      "Epoch 11/20\n",
      "0s - loss: 0.3508 - acc: 0.8415 - val_loss: 0.4151 - val_acc: 0.8241\n",
      "Epoch 12/20\n",
      "0s - loss: 0.3469 - acc: 0.8368 - val_loss: 0.3573 - val_acc: 0.8519\n",
      "Epoch 13/20\n",
      "0s - loss: 0.3560 - acc: 0.8228 - val_loss: 0.3623 - val_acc: 0.8148\n",
      "Epoch 14/20\n",
      "0s - loss: 0.3545 - acc: 0.8485 - val_loss: 0.3559 - val_acc: 0.8333\n",
      "Epoch 15/20\n",
      "0s - loss: 0.3387 - acc: 0.8368 - val_loss: 0.4512 - val_acc: 0.7500\n",
      "Epoch 16/20\n",
      "0s - loss: 0.3417 - acc: 0.8625 - val_loss: 0.3564 - val_acc: 0.8426\n",
      "Epoch 17/20\n",
      "0s - loss: 0.3341 - acc: 0.8392 - val_loss: 0.4066 - val_acc: 0.8056\n",
      "Epoch 18/20\n",
      "0s - loss: 0.3444 - acc: 0.8322 - val_loss: 0.3478 - val_acc: 0.8333\n",
      "Epoch 19/20\n",
      "0s - loss: 0.3313 - acc: 0.8392 - val_loss: 0.3484 - val_acc: 0.8519\n",
      "Epoch 20/20\n",
      "0s - loss: 0.3326 - acc: 0.8438 - val_loss: 0.3435 - val_acc: 0.8241\n"
     ]
    }
   ],
   "source": []
  },
  {
   "cell_type": "code",
   "execution_count": 1229,
   "metadata": {
    "collapsed": false
   },
   "outputs": [
    {
     "name": "stdout",
     "output_type": "stream",
     "text": [
      "\r",
      " 32/231 [===>..........................] - ETA: 6s"
     ]
    }
   ],
   "source": [
    "y1_hat = model.predict_classes(x_test)"
   ]
  },
  {
   "cell_type": "code",
   "execution_count": 1191,
   "metadata": {
    "collapsed": false
   },
   "outputs": [],
   "source": [
    "t1 = pd.crosstab(y1_hat,y1_test)"
   ]
  },
  {
   "cell_type": "code",
   "execution_count": 1192,
   "metadata": {
    "collapsed": false
   },
   "outputs": [
    {
     "data": {
      "text/html": [
       "<div>\n",
       "<table border=\"1\" class=\"dataframe\">\n",
       "  <thead>\n",
       "    <tr style=\"text-align: right;\">\n",
       "      <th>col_0</th>\n",
       "      <th>0</th>\n",
       "      <th>1</th>\n",
       "      <th>2</th>\n",
       "    </tr>\n",
       "    <tr>\n",
       "      <th>row_0</th>\n",
       "      <th></th>\n",
       "      <th></th>\n",
       "      <th></th>\n",
       "    </tr>\n",
       "  </thead>\n",
       "  <tbody>\n",
       "    <tr>\n",
       "      <th>0</th>\n",
       "      <td>31</td>\n",
       "      <td>46</td>\n",
       "      <td>0</td>\n",
       "    </tr>\n",
       "    <tr>\n",
       "      <th>1</th>\n",
       "      <td>0</td>\n",
       "      <td>51</td>\n",
       "      <td>12</td>\n",
       "    </tr>\n",
       "    <tr>\n",
       "      <th>2</th>\n",
       "      <td>0</td>\n",
       "      <td>11</td>\n",
       "      <td>80</td>\n",
       "    </tr>\n",
       "  </tbody>\n",
       "</table>\n",
       "</div>"
      ],
      "text/plain": [
       "col_0   0   1   2\n",
       "row_0            \n",
       "0      31  46   0\n",
       "1       0  51  12\n",
       "2       0  11  80"
      ]
     },
     "execution_count": 1192,
     "metadata": {},
     "output_type": "execute_result"
    }
   ],
   "source": [
    "t1"
   ]
  },
  {
   "cell_type": "code",
   "execution_count": 1193,
   "metadata": {
    "collapsed": false
   },
   "outputs": [
    {
     "name": "stdout",
     "output_type": "stream",
     "text": [
      "0.701298701299\n"
     ]
    }
   ],
   "source": [
    "print(accuracy(t1))\n"
   ]
  },
  {
   "cell_type": "code",
   "execution_count": 1230,
   "metadata": {
    "collapsed": false
   },
   "outputs": [
    {
     "data": {
      "image/png": "[encoded data removed]",
      "text/plain": [
       "<matplotlib.figure.Figure at 0x7ff28ed6ec18>"
      ]
     },
     "metadata": {},
     "output_type": "display_data"
    }
   ],
   "source": [
    "x = np.arange(1,21)\n",
    "plt.plot(x, history.history['acc'])\n",
    "plt.plot(x, history.history['val_acc'])\n",
    "plt.title('model accuracy')\n",
    "plt.ylabel('accuracy')\n",
    "plt.xlabel('epoch')\n",
    "plt.legend(['train', 'validation'], loc='upper left')\n",
    "plt.show()"
   ]
  },
  {
   "cell_type": "code",
   "execution_count": null,
   "metadata": {
    "collapsed": true
   },
   "outputs": [],
   "source": []
  },
  {
   "cell_type": "markdown",
   "metadata": {},
   "source": [
    "### Model for target variable Y2"
   ]
  },
  {
   "cell_type": "code",
   "execution_count": 1231,
   "metadata": {
    "collapsed": false
   },
   "outputs": [
    {
     "name": "stdout",
     "output_type": "stream",
     "text": [
      "Train on 429 samples, validate on 108 samples\n",
      "Epoch 1/20\n",
      "1s - loss: 0.9819 - acc: 0.5804 - val_loss: 0.8984 - val_acc: 0.6296\n",
      "Epoch 2/20\n",
      "0s - loss: 0.8188 - acc: 0.6667 - val_loss: 0.7931 - val_acc: 0.6296\n",
      "Epoch 3/20\n",
      "0s - loss: 0.7064 - acc: 0.6760 - val_loss: 0.7682 - val_acc: 0.6296\n",
      "Epoch 4/20\n",
      "0s - loss: 0.6576 - acc: 0.6783 - val_loss: 0.6903 - val_acc: 0.6296\n",
      "Epoch 5/20\n",
      "0s - loss: 0.6162 - acc: 0.6760 - val_loss: 0.6622 - val_acc: 0.6481\n",
      "Epoch 6/20\n",
      "0s - loss: 0.5991 - acc: 0.6643 - val_loss: 0.7167 - val_acc: 0.6574\n",
      "Epoch 7/20\n",
      "0s - loss: 0.5827 - acc: 0.6900 - val_loss: 0.7135 - val_acc: 0.6574\n",
      "Epoch 8/20\n",
      "0s - loss: 0.5646 - acc: 0.7249 - val_loss: 0.6227 - val_acc: 0.7037\n",
      "Epoch 9/20\n",
      "0s - loss: 0.5646 - acc: 0.7226 - val_loss: 0.6193 - val_acc: 0.7037\n",
      "Epoch 10/20\n",
      "0s - loss: 0.5561 - acc: 0.7203 - val_loss: 0.6449 - val_acc: 0.6852\n",
      "Epoch 11/20\n",
      "0s - loss: 0.5495 - acc: 0.7086 - val_loss: 0.6136 - val_acc: 0.7500\n",
      "Epoch 12/20\n",
      "0s - loss: 0.5405 - acc: 0.7273 - val_loss: 0.6015 - val_acc: 0.7500\n",
      "Epoch 13/20\n",
      "0s - loss: 0.5387 - acc: 0.7249 - val_loss: 0.6233 - val_acc: 0.7130\n",
      "Epoch 14/20\n",
      "0s - loss: 0.5362 - acc: 0.7226 - val_loss: 0.6243 - val_acc: 0.7130\n",
      "Epoch 15/20\n",
      "0s - loss: 0.5309 - acc: 0.7273 - val_loss: 0.6327 - val_acc: 0.6852\n",
      "Epoch 16/20\n",
      "0s - loss: 0.5150 - acc: 0.7483 - val_loss: 0.6053 - val_acc: 0.7315\n",
      "Epoch 17/20\n",
      "0s - loss: 0.5181 - acc: 0.7133 - val_loss: 0.5603 - val_acc: 0.7037\n",
      "Epoch 18/20\n",
      "0s - loss: 0.5138 - acc: 0.7413 - val_loss: 0.5943 - val_acc: 0.7222\n",
      "Epoch 19/20\n",
      "0s - loss: 0.5099 - acc: 0.7436 - val_loss: 0.6098 - val_acc: 0.7037\n",
      "Epoch 20/20\n",
      "0s - loss: 0.4951 - acc: 0.7599 - val_loss: 0.6257 - val_acc: 0.7222\n"
     ]
    }
   ],
   "source": [
    "layers = 2\n",
    "model = neural_model(layers)\n",
    "compile_model(model)\n",
    "history = fit_model(x_train,y2_train,model)"
   ]
  },
  {
   "cell_type": "code",
   "execution_count": 1232,
   "metadata": {
    "collapsed": false
   },
   "outputs": [
    {
     "name": "stdout",
     "output_type": "stream",
     "text": [
      "\r",
      " 32/231 [===>..........................] - ETA: 0s"
     ]
    }
   ],
   "source": [
    "y2_hat = model1.predict_classes(x_test)"
   ]
  },
  {
   "cell_type": "code",
   "execution_count": 1233,
   "metadata": {
    "collapsed": false
   },
   "outputs": [],
   "source": [
    "t2 = pd.crosstab(y2_test,y2_hat)"
   ]
  },
  {
   "cell_type": "code",
   "execution_count": 1234,
   "metadata": {
    "collapsed": false
   },
   "outputs": [
    {
     "data": {
      "text/html": [
       "<div>\n",
       "<table border=\"1\" class=\"dataframe\">\n",
       "  <thead>\n",
       "    <tr style=\"text-align: right;\">\n",
       "      <th>col_0</th>\n",
       "      <th>0</th>\n",
       "      <th>1</th>\n",
       "      <th>2</th>\n",
       "    </tr>\n",
       "    <tr>\n",
       "      <th>row_0</th>\n",
       "      <th></th>\n",
       "      <th></th>\n",
       "      <th></th>\n",
       "    </tr>\n",
       "  </thead>\n",
       "  <tbody>\n",
       "    <tr>\n",
       "      <th>0</th>\n",
       "      <td>77</td>\n",
       "      <td>8</td>\n",
       "      <td>0</td>\n",
       "    </tr>\n",
       "    <tr>\n",
       "      <th>1</th>\n",
       "      <td>18</td>\n",
       "      <td>31</td>\n",
       "      <td>19</td>\n",
       "    </tr>\n",
       "    <tr>\n",
       "      <th>2</th>\n",
       "      <td>0</td>\n",
       "      <td>15</td>\n",
       "      <td>63</td>\n",
       "    </tr>\n",
       "  </tbody>\n",
       "</table>\n",
       "</div>"
      ],
      "text/plain": [
       "col_0   0   1   2\n",
       "row_0            \n",
       "0      77   8   0\n",
       "1      18  31  19\n",
       "2       0  15  63"
      ]
     },
     "execution_count": 1234,
     "metadata": {},
     "output_type": "execute_result"
    }
   ],
   "source": [
    "t2"
   ]
  },
  {
   "cell_type": "code",
   "execution_count": 1235,
   "metadata": {
    "collapsed": false
   },
   "outputs": [
    {
     "name": "stdout",
     "output_type": "stream",
     "text": [
      "0.74025974026\n"
     ]
    }
   ],
   "source": [
    "print(accuracy(t2))"
   ]
  },
  {
   "cell_type": "markdown",
   "metadata": {},
   "source": [
    "### Epoch by epoch analysis (20 epochs considered)"
   ]
  },
  {
   "cell_type": "code",
   "execution_count": 1236,
   "metadata": {
    "collapsed": false
   },
   "outputs": [
    {
     "data": {
      "image/png": "[encoded data removed]",
      "text/plain": [
       "<matplotlib.figure.Figure at 0x7ff28e895c50>"
      ]
     },
     "metadata": {},
     "output_type": "display_data"
    }
   ],
   "source": [
    "x = np.arange(1,21)\n",
    "plt.plot(x, history.history['acc'])\n",
    "plt.plot(x, history.history['val_acc'])\n",
    "plt.title('model accuracy')\n",
    "plt.ylabel('accuracy')\n",
    "plt.xlabel('epoch')\n",
    "plt.legend(['train', 'validation'], loc='upper left')\n",
    "plt.show()"
   ]
  },
  {
   "cell_type": "code",
   "execution_count": null,
   "metadata": {
    "collapsed": true
   },
   "outputs": [],
   "source": []
  }
 ],
 "metadata": {
  "kernelspec": {
   "display_name": "Python 3",
   "language": "python",
   "name": "python3"
  },
  "language_info": {
   "codemirror_mode": {
    "name": "ipython",
    "version": 3
   },
   "file_extension": ".py",
   "mimetype": "text/x-python",
   "name": "python",
   "nbconvert_exporter": "python",
   "pygments_lexer": "ipython3",
   "version": "3.5.2"
  }
 },
 "nbformat": 4,
 "nbformat_minor": 2
}
